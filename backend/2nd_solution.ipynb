{
 "cells": [
  {
   "cell_type": "code",
   "execution_count": 1,
   "metadata": {},
   "outputs": [],
   "source": [
    "# Import required python libraries\n",
    "import numpy as np\n",
    "import pandas as pd\n",
    "from sklearn.model_selection import train_test_split"
   ]
  },
  {
   "cell_type": "code",
   "execution_count": 2,
   "metadata": {},
   "outputs": [
    {
     "data": {
      "text/plain": [
       "(300, 17)"
      ]
     },
     "execution_count": 2,
     "metadata": {},
     "output_type": "execute_result"
    }
   ],
   "source": [
    "# Load data from excel file\n",
    "data = pd.read_excel('laptop_details.xlsx')\n",
    "data.shape"
   ]
  },
  {
   "cell_type": "code",
   "execution_count": 3,
   "metadata": {},
   "outputs": [],
   "source": [
    "# Dropping insignificant columns\n",
    "data.drop('Company',axis=1, inplace=True)\n",
    "data.drop('ThirdPL',axis=1, inplace=True)"
   ]
  },
  {
   "cell_type": "code",
   "execution_count": 4,
   "metadata": {},
   "outputs": [],
   "source": [
    "# adding the target column to the end\n",
    "data['sales_location'] = data['Sales_location']\n",
    "data.drop('Sales_location',axis=1, inplace=True)\n",
    "data.drop('Abbreviation', axis=1, inplace=True)"
   ]
  },
  {
   "cell_type": "code",
   "execution_count": 5,
   "metadata": {},
   "outputs": [
    {
     "data": {
      "text/plain": [
       "'2018-08-13'"
      ]
     },
     "execution_count": 5,
     "metadata": {},
     "output_type": "execute_result"
    }
   ],
   "source": [
    "# calculates today's date\n",
    "import datetime\n",
    "date = (datetime.date.today() - datetime.timedelta(3*365/12)).isoformat()\n",
    "date"
   ]
  },
  {
   "cell_type": "code",
   "execution_count": 6,
   "metadata": {},
   "outputs": [],
   "source": [
    "# Training data contains sold products whereas testing data contains unsold products\n",
    "train_data = data[data.Status == 'sold']\n",
    "test_data = data[data.Status == 'not sold']"
   ]
  },
  {
   "cell_type": "code",
   "execution_count": 7,
   "metadata": {
    "scrolled": true
   },
   "outputs": [
    {
     "data": {
      "text/plain": [
       "(112,)"
      ]
     },
     "execution_count": 7,
     "metadata": {},
     "output_type": "execute_result"
    }
   ],
   "source": [
    "# storing the stock_in_date and product columns\n",
    "stock_in_date = test_data.Stock_in_date\n",
    "product = test_data.Product\n",
    "product.shape\n",
    "stock_in_date.shape"
   ]
  },
  {
   "cell_type": "code",
   "execution_count": 8,
   "metadata": {},
   "outputs": [
    {
     "name": "stderr",
     "output_type": "stream",
     "text": [
      "C:\\Users\\SEVA\\Anaconda3\\lib\\site-packages\\pandas\\core\\indexing.py:537: SettingWithCopyWarning: \n",
      "A value is trying to be set on a copy of a slice from a DataFrame.\n",
      "Try using .loc[row_indexer,col_indexer] = value instead\n",
      "\n",
      "See the caveats in the documentation: http://pandas.pydata.org/pandas-docs/stable/indexing.html#indexing-view-versus-copy\n",
      "  self.obj[item] = s\n"
     ]
    }
   ],
   "source": [
    "# Label encoding of categorical data to numerical data\n",
    "from sklearn.preprocessing import LabelEncoder\n",
    "le = LabelEncoder()\n",
    "for i in ([0,1,2,3,4,5,6,7,8]):\n",
    "    array = le.fit_transform(np.array(train_data.iloc[:,i]))\n",
    "    train_data.iloc[:,i] = array\n",
    "for i in ([0,1,2,3,4,5,6,7,8]):\n",
    "    array = le.fit_transform(np.array(test_data.iloc[:,i]))\n",
    "    test_data.iloc[:,i] = array"
   ]
  },
  {
   "cell_type": "code",
   "execution_count": 9,
   "metadata": {},
   "outputs": [
    {
     "name": "stderr",
     "output_type": "stream",
     "text": [
      "C:\\Users\\SEVA\\Anaconda3\\lib\\site-packages\\pandas\\core\\indexing.py:537: SettingWithCopyWarning: \n",
      "A value is trying to be set on a copy of a slice from a DataFrame.\n",
      "Try using .loc[row_indexer,col_indexer] = value instead\n",
      "\n",
      "See the caveats in the documentation: http://pandas.pydata.org/pandas-docs/stable/indexing.html#indexing-view-versus-copy\n",
      "  self.obj[item] = s\n"
     ]
    }
   ],
   "source": [
    "# Mapping 'sold' category as 1 and 'not sold' category as 0\n",
    "train_data.iloc[:,12] = train_data.iloc[:,12].map({'sold': 1, 'not sold': 0})\n",
    "test_data.iloc[:,12] = test_data.iloc[:,12].map({'sold': 1, 'not sold': 0})"
   ]
  },
  {
   "cell_type": "code",
   "execution_count": 10,
   "metadata": {},
   "outputs": [
    {
     "data": {
      "text/html": [
       "<div>\n",
       "<style scoped>\n",
       "    .dataframe tbody tr th:only-of-type {\n",
       "        vertical-align: middle;\n",
       "    }\n",
       "\n",
       "    .dataframe tbody tr th {\n",
       "        vertical-align: top;\n",
       "    }\n",
       "\n",
       "    .dataframe thead th {\n",
       "        text-align: right;\n",
       "    }\n",
       "</style>\n",
       "<table border=\"1\" class=\"dataframe\">\n",
       "  <thead>\n",
       "    <tr style=\"text-align: right;\">\n",
       "      <th></th>\n",
       "      <th>Product</th>\n",
       "      <th>TypeName</th>\n",
       "      <th>Inches</th>\n",
       "      <th>ScreenResolution</th>\n",
       "      <th>Cpu</th>\n",
       "      <th>Ram</th>\n",
       "      <th>Memory</th>\n",
       "      <th>Gpu</th>\n",
       "      <th>OpSys</th>\n",
       "      <th>Weight</th>\n",
       "      <th>Price_euros</th>\n",
       "      <th>Stock_in_date</th>\n",
       "      <th>Status</th>\n",
       "      <th>sales_location</th>\n",
       "    </tr>\n",
       "  </thead>\n",
       "  <tbody>\n",
       "    <tr>\n",
       "      <th>0</th>\n",
       "      <td>0</td>\n",
       "      <td>2</td>\n",
       "      <td>4</td>\n",
       "      <td>5</td>\n",
       "      <td>15</td>\n",
       "      <td>1</td>\n",
       "      <td>2</td>\n",
       "      <td>27</td>\n",
       "      <td>2</td>\n",
       "      <td>3.21kg</td>\n",
       "      <td>2051.00</td>\n",
       "      <td>2018-11-01</td>\n",
       "      <td>1</td>\n",
       "      <td>New Delhi</td>\n",
       "    </tr>\n",
       "    <tr>\n",
       "      <th>1</th>\n",
       "      <td>0</td>\n",
       "      <td>2</td>\n",
       "      <td>4</td>\n",
       "      <td>5</td>\n",
       "      <td>30</td>\n",
       "      <td>1</td>\n",
       "      <td>9</td>\n",
       "      <td>28</td>\n",
       "      <td>2</td>\n",
       "      <td>3.49kg</td>\n",
       "      <td>2813.75</td>\n",
       "      <td>2018-09-04</td>\n",
       "      <td>1</td>\n",
       "      <td>West Bengal</td>\n",
       "    </tr>\n",
       "    <tr>\n",
       "      <th>3</th>\n",
       "      <td>0</td>\n",
       "      <td>2</td>\n",
       "      <td>4</td>\n",
       "      <td>3</td>\n",
       "      <td>22</td>\n",
       "      <td>1</td>\n",
       "      <td>9</td>\n",
       "      <td>31</td>\n",
       "      <td>2</td>\n",
       "      <td>3.21kg</td>\n",
       "      <td>1329.00</td>\n",
       "      <td>2018-08-24</td>\n",
       "      <td>1</td>\n",
       "      <td>New Delhi</td>\n",
       "    </tr>\n",
       "    <tr>\n",
       "      <th>4</th>\n",
       "      <td>1</td>\n",
       "      <td>2</td>\n",
       "      <td>5</td>\n",
       "      <td>9</td>\n",
       "      <td>29</td>\n",
       "      <td>1</td>\n",
       "      <td>9</td>\n",
       "      <td>27</td>\n",
       "      <td>2</td>\n",
       "      <td>4.42kg</td>\n",
       "      <td>2456.34</td>\n",
       "      <td>2018-09-01</td>\n",
       "      <td>1</td>\n",
       "      <td>Odisha</td>\n",
       "    </tr>\n",
       "    <tr>\n",
       "      <th>5</th>\n",
       "      <td>1</td>\n",
       "      <td>2</td>\n",
       "      <td>5</td>\n",
       "      <td>6</td>\n",
       "      <td>30</td>\n",
       "      <td>1</td>\n",
       "      <td>9</td>\n",
       "      <td>28</td>\n",
       "      <td>2</td>\n",
       "      <td>4.42kg</td>\n",
       "      <td>2799.00</td>\n",
       "      <td>2018-10-29</td>\n",
       "      <td>1</td>\n",
       "      <td>Tamil Nadu</td>\n",
       "    </tr>\n",
       "  </tbody>\n",
       "</table>\n",
       "</div>"
      ],
      "text/plain": [
       "   Product  TypeName  Inches  ScreenResolution  Cpu  Ram  Memory  Gpu  OpSys  \\\n",
       "0        0         2       4                 5   15    1       2   27      2   \n",
       "1        0         2       4                 5   30    1       9   28      2   \n",
       "3        0         2       4                 3   22    1       9   31      2   \n",
       "4        1         2       5                 9   29    1       9   27      2   \n",
       "5        1         2       5                 6   30    1       9   28      2   \n",
       "\n",
       "   Weight  Price_euros Stock_in_date  Status sales_location  \n",
       "0  3.21kg      2051.00    2018-11-01       1      New Delhi  \n",
       "1  3.49kg      2813.75    2018-09-04       1    West Bengal  \n",
       "3  3.21kg      1329.00    2018-08-24       1      New Delhi  \n",
       "4  4.42kg      2456.34    2018-09-01       1         Odisha  \n",
       "5  4.42kg      2799.00    2018-10-29       1     Tamil Nadu  "
      ]
     },
     "execution_count": 10,
     "metadata": {},
     "output_type": "execute_result"
    }
   ],
   "source": [
    "train_data.head()"
   ]
  },
  {
   "cell_type": "code",
   "execution_count": 11,
   "metadata": {},
   "outputs": [],
   "source": [
    "# creating training and testing data to be trained and predicted respectively\n",
    "X_train = train_data.iloc[:,:-1]\n",
    "Y_train = train_data.iloc[:,-1]\n",
    "X_test = test_data.iloc[:,:-1]\n",
    "Y_test = test_data.iloc[:,-1]"
   ]
  },
  {
   "cell_type": "code",
   "execution_count": 12,
   "metadata": {},
   "outputs": [
    {
     "data": {
      "text/plain": [
       "array([ 6, 12,  6,  7, 10, 10,  1,  2,  7,  6,  6,  0,  3,  6,  2, 10,  7,\n",
       "        7,  1,  6,  5,  2,  8,  7,  0,  2,  1,  7,  2, 13,  6,  2,  1,  6,\n",
       "        6,  7,  3,  6,  0,  0, 10,  8,  6,  6,  4,  8,  7,  3,  9,  4,  4,\n",
       "        1,  0,  2, 10, 12, 10,  8, 10,  8,  8,  1,  8,  4,  6,  6, 10, 12,\n",
       "        6, 12,  4,  7, 11,  6, 10,  6,  0, 11, 12,  6, 12, 11,  4,  6, 12,\n",
       "        2,  1, 10,  1, 10, 12,  4,  6,  6,  7, 10, 11,  2, 11, 12,  1,  3,\n",
       "        1,  6, 10,  8,  7, 10, 12,  8,  4,  3,  0,  6,  6,  6,  4, 11,  8,\n",
       "        4,  0,  0,  7,  8,  3,  3,  1,  8,  0,  4,  4,  6,  7, 12,  2, 12,\n",
       "        1, 12,  4,  3,  6,  0,  1,  7, 10,  7,  3,  2,  6,  6,  0,  1,  8,\n",
       "       11,  1,  2,  6,  0,  4,  1,  3,  6,  6, 12, 12,  0,  7,  6,  4, 10,\n",
       "        4, 12,  7,  6,  6,  2,  6,  1, 10,  0,  7,  7, 10, 10,  4,  6,  0,\n",
       "        1], dtype=int64)"
      ]
     },
     "execution_count": 12,
     "metadata": {},
     "output_type": "execute_result"
    }
   ],
   "source": [
    "array = le.fit_transform(np.array(Y_train))\n",
    "Y_train = array\n",
    "array = le.fit_transform(np.array(Y_test))\n",
    "Y_test = array\n",
    "\n",
    "Y_train"
   ]
  },
  {
   "cell_type": "code",
   "execution_count": 13,
   "metadata": {},
   "outputs": [],
   "source": [
    "# Dropping the weight column\n",
    "X_train.drop('Weight',axis=1, inplace=True)\n",
    "X_test.drop('Weight', axis=1, inplace=True)"
   ]
  },
  {
   "cell_type": "code",
   "execution_count": 14,
   "metadata": {},
   "outputs": [],
   "source": [
    "# Converting string values in Price_euros column to float values\n",
    "X_train.Price_euros = X_train.Price_euros.astype(float)\n",
    "X_test.Price_euros = X_test.Price_euros.astype(float)"
   ]
  },
  {
   "cell_type": "code",
   "execution_count": 15,
   "metadata": {},
   "outputs": [
    {
     "data": {
      "text/plain": [
       "(188, 12)"
      ]
     },
     "execution_count": 15,
     "metadata": {},
     "output_type": "execute_result"
    }
   ],
   "source": [
    "X_train.shape"
   ]
  },
  {
   "cell_type": "code",
   "execution_count": 16,
   "metadata": {},
   "outputs": [
    {
     "data": {
      "text/plain": [
       "(112, 12)"
      ]
     },
     "execution_count": 16,
     "metadata": {},
     "output_type": "execute_result"
    }
   ],
   "source": [
    "X_test.shape"
   ]
  },
  {
   "cell_type": "code",
   "execution_count": 17,
   "metadata": {},
   "outputs": [],
   "source": [
    "# store stock_in_date\n",
    "stock_in_date = X_test['Stock_in_date']\n",
    "X_train.drop('Stock_in_date',axis=1,inplace=True)\n",
    "X_test.drop('Stock_in_date',axis=1,inplace=True)"
   ]
  },
  {
   "cell_type": "code",
   "execution_count": 18,
   "metadata": {},
   "outputs": [
    {
     "data": {
      "text/plain": [
       "array([[-1.3522906 , -1.64991237,  1.31346639, ..., -2.21089828,\n",
       "         2.15569009, -1.        ],\n",
       "       [-1.30001204, -1.64991237,  2.26320363, ..., -2.21089828,\n",
       "         2.48948102, -1.        ],\n",
       "       [-1.30001204, -1.64991237,  2.26320363, ..., -2.21089828,\n",
       "         2.13238051, -1.        ],\n",
       "       ...,\n",
       "       [ 0.73885176, -0.99689442,  1.31346639, ..., -2.21089828,\n",
       "         0.92835594, -1.        ],\n",
       "       [ 0.73885176, -0.99689442,  1.31346639, ..., -2.21089828,\n",
       "         0.71810718, -1.        ],\n",
       "       [ 0.79113032, -0.34387647,  1.31346639, ..., -2.21089828,\n",
       "         0.69043844, -1.        ]])"
      ]
     },
     "execution_count": 18,
     "metadata": {},
     "output_type": "execute_result"
    }
   ],
   "source": [
    "# Normalization the data to prevent overfitting\n",
    "from sklearn.preprocessing import StandardScaler\n",
    "sc_X = StandardScaler()\n",
    "X_train = sc_X.fit_transform(X_train)\n",
    "X_test = sc_X.transform(X_test)\n",
    "X_train\n",
    "X_test"
   ]
  },
  {
   "cell_type": "code",
   "execution_count": 19,
   "metadata": {},
   "outputs": [],
   "source": [
    "# Using random forest classifier to predict the appropriate warehouse in appropriate locations for moving aged products\n",
    "from sklearn.ensemble import RandomForestClassifier\n",
    "from sklearn.metrics import accuracy_score, classification_report\n",
    "clf1 = RandomForestClassifier()\n",
    "clf1.fit(X_train, Y_train)\n",
    "Y_pred = clf1.predict(X_test)"
   ]
  },
  {
   "cell_type": "code",
   "execution_count": 20,
   "metadata": {},
   "outputs": [
    {
     "name": "stderr",
     "output_type": "stream",
     "text": [
      "C:\\Users\\SEVA\\Anaconda3\\lib\\site-packages\\sklearn\\preprocessing\\label.py:151: DeprecationWarning: The truth value of an empty array is ambiguous. Returning False, but in future this will result in an error. Use `array.size > 0` to check that an array is not empty.\n",
      "  if diff:\n"
     ]
    }
   ],
   "source": [
    "# Storing the predictions into a csv file\n",
    "prediction = pd.DataFrame(product, columns=['Product'])\n",
    "prediction['Stock_in_date'] = stock_in_date\n",
    "prediction['Location'] = le.inverse_transform(Y_pred)"
   ]
  },
  {
   "cell_type": "code",
   "execution_count": 21,
   "metadata": {},
   "outputs": [],
   "source": [
    "prediction.to_csv('Predict2.csv')"
   ]
  }
 ],
 "metadata": {
  "kernelspec": {
   "display_name": "Python 3",
   "language": "python",
   "name": "python3"
  },
  "language_info": {
   "codemirror_mode": {
    "name": "ipython",
    "version": 3
   },
   "file_extension": ".py",
   "mimetype": "text/x-python",
   "name": "python",
   "nbconvert_exporter": "python",
   "pygments_lexer": "ipython3",
   "version": "3.6.4"
  }
 },
 "nbformat": 4,
 "nbformat_minor": 2
}
